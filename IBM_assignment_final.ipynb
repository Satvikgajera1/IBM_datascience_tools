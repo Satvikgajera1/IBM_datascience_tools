{
  "metadata": {
    "language_info": {
      "codemirror_mode": {
        "name": "python",
        "version": 3
      },
      "file_extension": ".py",
      "mimetype": "text/x-python",
      "name": "python",
      "nbconvert_exporter": "python",
      "pygments_lexer": "ipython3",
      "version": "3.8"
    },
    "kernelspec": {
      "name": "python",
      "display_name": "Python (Pyodide)",
      "language": "python"
    }
  },
  "nbformat_minor": 4,
  "nbformat": 4,
  "cells": [
    {
      "cell_type": "markdown",
      "source": "<h1>My Jupyter Notebook on IBM Watson Studio</h1>",
      "metadata": {}
    },
    {
      "cell_type": "markdown",
      "source": "<b>Satvik</b><br>\nStudent",
      "metadata": {}
    },
    {
      "cell_type": "markdown",
      "source": "<i>I am interested in data science because it is the future of technology. It is helpful to automate and find hidden insights of data. This insights are so precious for businesses that it can change their growth into positive direction.</i>",
      "metadata": {}
    },
    {
      "cell_type": "markdown",
      "source": "<h3>Below operation is summation of \"1\" and \"1\" which gives \"2\"</h3>",
      "metadata": {}
    },
    {
      "cell_type": "code",
      "source": "1+1",
      "metadata": {
        "trusted": true
      },
      "execution_count": 1,
      "outputs": [
        {
          "execution_count": 1,
          "output_type": "execute_result",
          "data": {
            "text/plain": "2"
          },
          "metadata": {}
        }
      ]
    },
    {
      "cell_type": "markdown",
      "source": "<hr>\n<p>Last Task</p>\n<hr>\n<ul>\n  <li>First Bullet</li>\n  <li>Second Bullet</li>\n</ul>\n<ol>\n    <li>First Number</li>\n    <li>Second Number</li>\n    <li>Third Number</li>\n</ol>\n<table>\n  <tr>\n    <th>Company</th>\n    <th>Contact</th>\n    <th>Country</th>\n  </tr>\n  <tr>\n    <td>Alfreds Futterkiste</td>\n    <td>Maria Anders</td>\n    <td>Germany</td>\n  </tr>\n  <tr>\n    <td>Centro comercial Moctezuma</td>\n    <td>Francisco Chang</td>\n    <td>Mexico</td>\n  </tr>\n</table>\n<a><b>HYPERLINK</b></a>\n<img src=\"https://pixabay.com/images/search/nature/\" alt=\"IMAGE DEFAULT\">\n<p style=\"background-color: #abff32\">HIGHLIGHTED</p>\n<blockquote cite=\"http://www.worldwildlife.org/who/index.html\">\nFor 50 years, WWF has been protecting the future of nature. The world's leading conservation organization, WWF works in 100 countries and is supported by 1.2 million members in the United States and close to 5 million globally.\n</blockquote>\n<p><s>There will be a few tickets available at the box office tonight.</s></p>",
      "metadata": {}
    },
    {
      "cell_type": "code",
      "source": "",
      "metadata": {},
      "execution_count": null,
      "outputs": []
    }
  ]
}